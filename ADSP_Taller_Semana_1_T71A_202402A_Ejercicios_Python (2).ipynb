{
  "nbformat": 4,
  "nbformat_minor": 0,
  "metadata": {
    "colab": {
      "provenance": [],
      "toc_visible": true
    },
    "kernelspec": {
      "name": "python3",
      "display_name": "Python 3"
    },
    "language_info": {
      "name": "python"
    }
  },
  "cells": [
    {
      "cell_type": "markdown",
      "source": [
        "# Ejercicios Python"
      ],
      "metadata": {
        "id": "0GUghrUDFmdr"
      }
    },
    {
      "cell_type": "markdown",
      "source": [
        "## Ejercicio 1"
      ],
      "metadata": {
        "id": "y6aHC4r-Fr_-"
      }
    },
    {
      "cell_type": "markdown",
      "source": [
        "El código genético está compuesto por cuatro letras (A,T,C,G), sin embargo, le solicitan que identifique todas las veces que encuentra el patrón A?T, siendo ? cualquiera de las otras 4 letras.\n",
        "\n",
        "Diseñar un programa donde el usuario ingrese una secuencia de código genético (solamente las 4 letras anteriormente indicadas) y muestre las veces en las que se encuentra el patrón A?T dentro de la secuencia ingresada por el usuario"
      ],
      "metadata": {
        "id": "QbEUbF1cFyIY"
      }
    },
    {
      "cell_type": "markdown",
      "source": [
        "### Resolución de Ejercicio 1"
      ],
      "metadata": {
        "id": "gKw8FCbbF_ja"
      }
    },
    {
      "cell_type": "code",
      "source": [
        "def contar_patron (secuencia):\n",
        "  contador = 0\n",
        "  longitud = len(secuencia)\n",
        "\n",
        "  for i in range(longitud - 2):\n",
        "    if(secuencia[i] == 'A' and secuencia[i+2] == 'T') and secuencia[i+1] in {'A','T','C','G'}: contador += 1\n",
        "    ##  i  i+1  i+2\n",
        "    ##  A   ?    T\n",
        "  return contador"
      ],
      "metadata": {
        "id": "i6gQcgtYGjT6"
      },
      "execution_count": null,
      "outputs": []
    },
    {
      "cell_type": "markdown",
      "source": [
        "### Validación de Ejercicio 1"
      ],
      "metadata": {
        "id": "gDnaDS_QIZRJ"
      }
    },
    {
      "cell_type": "code",
      "source": [
        "input = 'ATCGAGTACTATT'\n",
        "resultado = contar_patron(input)\n",
        "\n",
        "print(f\"La secuencia '{input}' contiene al patron A?T {resultado} veces.\")"
      ],
      "metadata": {
        "colab": {
          "base_uri": "https://localhost:8080/"
        },
        "id": "06pwSHB9IdQB",
        "outputId": "d61da900-5f46-4c5d-f76a-33606803b1e9"
      },
      "execution_count": null,
      "outputs": [
        {
          "output_type": "stream",
          "name": "stdout",
          "text": [
            "La secuencia 'ATCGAGTACTATT' contiene al patron A?T 3 veces.\n"
          ]
        }
      ]
    },
    {
      "cell_type": "markdown",
      "source": [
        "## Ejercicio 2"
      ],
      "metadata": {
        "id": "Q2rnUw97JPi0"
      }
    },
    {
      "cell_type": "markdown",
      "source": [
        "¿Recuerdas la historia del burro en el pozo? Consideremos que un burro se encuentra atrapado en un pozo y desea salir. Para eso, un agricultor tiene que levantarlo usando unas sogas, sin embargo, después de cada intento, el agricultor tiene que descansar, por lo que el burro resbala. Para fines prácticos, el agricultor solamente puede jalar al burro una vez en el día y avanza 5 metros. Después de avanzar, retrocede 3 metros.\n",
        "\n",
        "Crear un programa que pida lo siguiente: Profundidad del pozo (metros)\n",
        "\n",
        "El programa debe devolver los días que necesitará el burro para salir"
      ],
      "metadata": {
        "id": "SwBnINESJSQ_"
      }
    },
    {
      "cell_type": "markdown",
      "source": [
        "### Resolucion de Ejercicio 2"
      ],
      "metadata": {
        "id": "Qd8I9LxhJdHn"
      }
    },
    {
      "cell_type": "code",
      "source": [
        "profundidad_pozo = float(20)\n",
        "\n",
        "avance_diario = 5\n",
        "retroceso_diario = 3\n",
        "\n",
        "distancia_actual = 0\n",
        "dias_necesarios = 0\n",
        "\n",
        "while distancia_actual < profundidad_pozo:\n",
        "  distancia_actual += avance_diario\n",
        "  dias_necesarios += 1\n",
        "\n",
        "  if distancia_actual > profundidad_pozo:\n",
        "    break\n",
        "\n",
        "  distancia_actual -= retroceso_diario"
      ],
      "metadata": {
        "id": "QEGdfL2lJgsb"
      },
      "execution_count": null,
      "outputs": []
    },
    {
      "cell_type": "markdown",
      "source": [
        "### Validación de Ejercicio 2"
      ],
      "metadata": {
        "id": "Bmd0m0rdKaQ7"
      }
    },
    {
      "cell_type": "code",
      "source": [
        "print(f\"El burro necesitará {dias_necesarios} para salir del pozo.\")"
      ],
      "metadata": {
        "colab": {
          "base_uri": "https://localhost:8080/"
        },
        "id": "g2Wa6r-9Kb_-",
        "outputId": "02466f20-9c66-4319-8c0a-fb16df31339b"
      },
      "execution_count": null,
      "outputs": [
        {
          "output_type": "stream",
          "name": "stdout",
          "text": [
            "El burro necesitará 9 para salir del pozo.\n"
          ]
        }
      ]
    },
    {
      "cell_type": "markdown",
      "source": [
        "## Ejercicio 3"
      ],
      "metadata": {
        "id": "IbNqrgniLHAG"
      }
    },
    {
      "cell_type": "markdown",
      "source": [
        "Se dice que uno de los primeros ejemplos de cifrado en la historia fue inventado por Julio César, quien necesitaba enviar instrucciones escritas a sus generales, pero tenía que evitar que sus enemigos se enteraran de sus planes en caso de que los mensajes cayeran en sus manos. Para esto, desarrolló lo que ahora se conoce como el Cifrado César basándose en una idea muy simple: se define un corrimiento corr y luego, cada letra dentro del mensaje original se remplaza por la letra que esté corr posiciones más adelante en el alfabeto. Por ejemplo, con un corr igual a 3, la A se convierte en D, la B en E, y así sucesivamente. Las últimas tres letras en el alfabeto se vuelven las tres primeras: X se vuelve A, Y se vuelve B y Z se vuelve C. Para simplificar el ejercicio, el cifrado únicamente afectará caracteres que correspondan a letras minúsculas sin tíldes ni diéresis.\n",
        "\n",
        "En la siguiente celda encuentras la cadena de caracteres cifrada que contiene una frase para descifrar y se especifica el valor de la variable corr. Adicionalmente, encuentras una tupla con el alfabeto."
      ],
      "metadata": {
        "id": "nX2-6mHnLJpu"
      }
    },
    {
      "cell_type": "markdown",
      "source": [
        "### Resolución de Ejercicio 3"
      ],
      "metadata": {
        "id": "i5-uvQ2rLMhc"
      }
    },
    {
      "cell_type": "markdown",
      "source": [
        "#### Inputs:"
      ],
      "metadata": {
        "id": "r8GUPUlmLUT0"
      }
    },
    {
      "cell_type": "code",
      "source": [
        "cifrada = \"Aqxzxobjmp nmo bi kmoqb x ixp 5 ab ix qxoab\"\n",
        "corr = 3\n",
        "\n",
        "alfabeto = ('a', 'b', 'c', 'd', 'e', 'f', 'g', 'h', 'i', 'j', 'k', 'l', 'm', 'n', 'ñ', 'o', 'p',\n",
        "            'q', 'r', 's', 't', 'u', 'v', 'w', 'x', 'y', 'z')"
      ],
      "metadata": {
        "id": "Atpz6qsZLQl8"
      },
      "execution_count": null,
      "outputs": []
    },
    {
      "cell_type": "markdown",
      "source": [
        "#### Desarrollo"
      ],
      "metadata": {
        "id": "qXFngSLLLXd_"
      }
    },
    {
      "cell_type": "code",
      "source": [
        "for i in cifrada:\n",
        "  if i in alfabeto:\n",
        "    indice = alfabeto.index(i)\n",
        "    new_index = indice + corr\n",
        "    if new_index >= len(alfabeto):\n",
        "      new_index = new_index - len(alfabeto)\n",
        "      print(alfabeto[new_index])\n",
        "    else:\n",
        "      print(alfabeto[new_index])\n",
        "  else:\n",
        "    print(i)"
      ],
      "metadata": {
        "colab": {
          "base_uri": "https://localhost:8080/"
        },
        "id": "nu-0PD4hLRzh",
        "outputId": "b0b2ba79-31cb-4d53-dcd5-db2cdfdb8b34"
      },
      "execution_count": null,
      "outputs": [
        {
          "output_type": "stream",
          "name": "stdout",
          "text": [
            "A\n",
            "t\n",
            "a\n",
            "c\n",
            "a\n",
            "r\n",
            "e\n",
            "m\n",
            "o\n",
            "s\n",
            " \n",
            "p\n",
            "o\n",
            "r\n",
            " \n",
            "e\n",
            "l\n",
            " \n",
            "n\n",
            "o\n",
            "r\n",
            "t\n",
            "e\n",
            " \n",
            "a\n",
            " \n",
            "l\n",
            "a\n",
            "s\n",
            " \n",
            "5\n",
            " \n",
            "d\n",
            "e\n",
            " \n",
            "l\n",
            "a\n",
            " \n",
            "t\n",
            "a\n",
            "r\n",
            "d\n",
            "e\n"
          ]
        }
      ]
    }
  ]
}